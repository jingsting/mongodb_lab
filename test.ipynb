{
 "cells": [
  {
   "cell_type": "code",
   "execution_count": 140,
   "metadata": {},
   "outputs": [
    {
     "name": "stdout",
     "output_type": "stream",
     "text": [
      "Space Invader\n",
      "1\n"
     ]
    }
   ],
   "source": [
    "from pymongo import MongoClient\n",
    "from bson.objectid import ObjectId\n",
    "import pprint\n",
    "import datetime\n",
    "client = MongoClient('mongodb://localhost:27017/')\n",
    "\n",
    "if __name__ == '__main__':\n",
    "    db = client['mongo_db_lab']\n",
    "    col = db['definitions']\n",
    "    \n",
    "    while True:\n",
    "        record = col.aggregate([{ '$sample': { 'size': 1 } }])\n",
    "        word = [one for one in record][0]['word']\n",
    "        print(word)\n",
    "        col.update_one({'word':word}, {'$push':{'dates': datetime.datetime.utcnow()}})\n",
    "        newword = col.find_one({'word':word})\n",
    "        print(newword)\n",
    "        if len(newword['dates']) > 1:\n",
    "            print('found duplicate')\n",
    "            break"
   ]
  },
  {
   "cell_type": "code",
   "execution_count": 132,
   "metadata": {},
   "outputs": [
    {
     "name": "stdout",
     "output_type": "stream",
     "text": [
      ".\n",
      "\n",
      ".\n",
      "\n",
      ".\n",
      "\n",
      ".\n",
      "\n",
      ".\n",
      "\n",
      "{'_id': ObjectId('56fe9e22bad6b23cde07b8bc'),\n",
      " 'definition': ' n. (RPI) The decaying ruins of the old Rensselaer gateway '\n",
      "               'from Troy.',\n",
      " 'word': 'Approach'}\n",
      "{'_id': ObjectId('56fe9e22bad6b23cde07b8c8'),\n",
      " 'definition': ' n. Your first degree, assuming you finish.',\n",
      " 'word': 'B.S.'}\n",
      "{'_id': ObjectId('56fe9e22bad6b23cde07b8b8'),\n",
      " 'definition': ' n. Assemblage of Computer Maniacs, a group of wanted '\n",
      "               'criminals at the VCC.',\n",
      " 'word': 'ACM'}\n",
      "{'_id': ObjectId('5ca794f1a5de7e15d72b0e65'),\n",
      " 'dates': [datetime.datetime(2019, 4, 5, 21, 16, 46, 124000),\n",
      "           datetime.datetime(2019, 4, 5, 21, 22, 20, 462000),\n",
      "           datetime.datetime(2019, 4, 5, 21, 22, 26, 735000),\n",
      "           datetime.datetime(2019, 4, 5, 21, 22, 28, 207000)],\n",
      " 'definition': ' n. a single distinct meaningful element of speech or writing, '\n",
      "               'used with others (or sometimes alone) to form a sentence and '\n",
      "               'typically shown with a space on either side when written or '\n",
      "               'printed.',\n",
      " 'word': 'Word'}\n"
     ]
    }
   ],
   "source": [
    "from pymongo import MongoClient\n",
    "from bson.objectid import ObjectId\n",
    "import pprint\n",
    "client = MongoClient('mongodb://localhost:27017/')\n",
    "\n",
    "if __name__ == '__main__':\n",
    "    db = client['mongo_db_lab']\n",
    "    col = db['definitions']\n",
    "#     for one in col.find():\n",
    "#         print(one)\n",
    "    [print('.\\n') for i in range(5)]\n",
    "    pprint.pprint(col.find_one())\n",
    "    pprint.pprint(col.find_one({'word': 'B.S.'}))\n",
    "    pprint.pprint(col.find_one({'_id': ObjectId('56fe9e22bad6b23cde07b8b8')}))\n",
    "    post = {'definition': ' n. a single distinct meaningful element of speech or writing, used with others (or sometimes alone) to form a sentence and typically shown with a space on either side when written or printed.',\n",
    "            'word': 'Word'}\n",
    "#     col.insert_one(post)\n",
    "    pprint.pprint(col.find_one({'word': 'Word'}))"
   ]
  },
  {
   "cell_type": "code",
   "execution_count": null,
   "metadata": {},
   "outputs": [],
   "source": []
  },
  {
   "cell_type": "code",
   "execution_count": null,
   "metadata": {},
   "outputs": [],
   "source": []
  },
  {
   "cell_type": "code",
   "execution_count": null,
   "metadata": {},
   "outputs": [],
   "source": []
  }
 ],
 "metadata": {
  "kernelspec": {
   "display_name": "Python 3",
   "language": "python",
   "name": "python3"
  },
  "language_info": {
   "codemirror_mode": {
    "name": "ipython",
    "version": 3
   },
   "file_extension": ".py",
   "mimetype": "text/x-python",
   "name": "python",
   "nbconvert_exporter": "python",
   "pygments_lexer": "ipython3",
   "version": "3.6.6"
  }
 },
 "nbformat": 4,
 "nbformat_minor": 2
}
